{
 "cells": [
  {
   "cell_type": "code",
   "execution_count": 8,
   "metadata": {},
   "outputs": [],
   "source": [
    "import pandas as pd\n",
    "\n",
    "# Load the CSV files\n",
    "postings = pd.read_csv(\"./dataset/postings.csv\")\n",
    "industries = pd.read_csv(\"./dataset/mappings/industries.csv\")\n",
    "job_industry = pd.read_csv(\"./dataset/jobs/job_industries.csv\")\n",
    "skills = pd.read_csv(\"./dataset/mappings/skills.csv\")\n",
    "job_skills = pd.read_csv(\"./dataset/jobs/job_skills.csv\")\n",
    "salaries = pd.read_csv(\"./dataset/jobs/salaries.csv\")\n",
    "benefits = pd.read_csv(\"./dataset/jobs/benefits.csv\")\n",
    "companies = pd.read_csv(\"./dataset/companies/companies.csv\")\n",
    "company_industries = pd.read_csv(\"./dataset/companies/company_industries.csv\")\n",
    "company_specialities = pd.read_csv(\"./dataset/companies/company_specialities.csv\")\n",
    "employee_counts = pd.read_csv(\"./dataset/companies/employee_counts.csv\")"
   ]
  },
  {
   "cell_type": "markdown",
   "metadata": {},
   "source": [
    "Merge industries\n"
   ]
  },
  {
   "cell_type": "code",
   "execution_count": 9,
   "metadata": {},
   "outputs": [],
   "source": [
    "# Replace spaces in industry names with underscores\n",
    "# This is done to ensure that theses industries are considered as a single word once placed on Word To Vec\n",
    "job_industry = job_industry.merge(industries, on=\"industry_id\", how=\"left\")\n",
    "job_industry[\"industry_name\"] = job_industry[\"industry_name\"].str.replace(\" \", \"_\", regex=False)\n",
    "\n",
    "# Group industry names by job_id and join them with \" and \"\n",
    "industry_grouped = (\n",
    "    job_industry.groupby(\"job_id\")[\"industry_name\"]\n",
    "    .apply(lambda x: \" and \".join(x.dropna())) \n",
    "    .reset_index()\n",
    ")\n",
    "\n",
    "# Merge with postings to add the industry names\n",
    "merged_postings = postings.merge(industry_grouped, on=\"job_id\", how=\"left\")\n"
   ]
  },
  {
   "cell_type": "code",
   "execution_count": 10,
   "metadata": {},
   "outputs": [
    {
     "name": "stdout",
     "output_type": "stream",
     "text": [
      "     job_id            company_name  \\\n",
      "0    921716   Corcoran Sawyer Smith   \n",
      "1   1829192                     NaN   \n",
      "2  10998357  The National Exemplar    \n",
      "3  23221523  Abrams Fensterman, LLP   \n",
      "4  35982263                     NaN   \n",
      "\n",
      "                                               title  \\\n",
      "0                              Marketing Coordinator   \n",
      "1                  Mental Health Therapist/Counselor   \n",
      "2                        Assitant Restaurant Manager   \n",
      "3  Senior Elder Law / Trusts and Estates Associat...   \n",
      "4                                 Service Technician   \n",
      "\n",
      "                                         description  max_salary pay_period  \\\n",
      "0  Job descriptionA leading real estate firm in N...        20.0     HOURLY   \n",
      "1  At Aspen Therapy and Wellness , we are committ...        50.0     HOURLY   \n",
      "2  The National Exemplar is accepting application...     65000.0     YEARLY   \n",
      "3  Senior Associate Attorney - Elder Law / Trusts...    175000.0     YEARLY   \n",
      "4  Looking for HVAC service tech with experience ...     80000.0     YEARLY   \n",
      "\n",
      "            location  company_id  views  med_salary  ...   listed_time  \\\n",
      "0      Princeton, NJ   2774458.0   20.0         NaN  ...  1.713398e+12   \n",
      "1   Fort Collins, CO         NaN    1.0         NaN  ...  1.712858e+12   \n",
      "2     Cincinnati, OH  64896719.0    8.0         NaN  ...  1.713278e+12   \n",
      "3  New Hyde Park, NY    766262.0   16.0         NaN  ...  1.712896e+12   \n",
      "4     Burlington, IA         NaN    3.0         NaN  ...  1.713452e+12   \n",
      "\n",
      "  posting_domain  sponsored  work_type  currency compensation_type  \\\n",
      "0            NaN          0  FULL_TIME       USD       BASE_SALARY   \n",
      "1            NaN          0  FULL_TIME       USD       BASE_SALARY   \n",
      "2            NaN          0  FULL_TIME       USD       BASE_SALARY   \n",
      "3            NaN          0  FULL_TIME       USD       BASE_SALARY   \n",
      "4            NaN          0  FULL_TIME       USD       BASE_SALARY   \n",
      "\n",
      "  normalized_salary zip_code     fips        industry_name  \n",
      "0           38480.0   8540.0  34021.0          Real_Estate  \n",
      "1           83200.0  80521.0   8069.0                  NaN  \n",
      "2           55000.0  45202.0  39061.0          Restaurants  \n",
      "3          157500.0  11040.0  36059.0         Law_Practice  \n",
      "4           70000.0  52601.0  19057.0  Facilities_Services  \n",
      "\n",
      "[5 rows x 32 columns]\n"
     ]
    }
   ],
   "source": [
    "print(merged_postings.head())"
   ]
  },
  {
   "cell_type": "markdown",
   "metadata": {},
   "source": [
    "Merge Skills"
   ]
  },
  {
   "cell_type": "code",
   "execution_count": 11,
   "metadata": {},
   "outputs": [],
   "source": [
    "# Merge job_skills with skills to get skill names\n",
    "job_skills = job_skills.merge(skills, on=\"skill_abr\", how=\"left\")\n",
    "\n",
    "# Replace spaces in skill names with underscores\n",
    "job_skills[\"skill_name\"] = job_skills[\"skill_name\"].str.replace(\" \", \"_\", regex=False)\n",
    "\n",
    "# Group skills by job_id, remove NaNs, and join them with \" and \"\n",
    "skill_grouped = (\n",
    "    job_skills.groupby(\"job_id\")[\"skill_name\"]\n",
    "    .apply(lambda x: \" and \".join(x.dropna()))\n",
    "    .reset_index()\n",
    ")\n",
    "\n",
    "# Merge skills into postings\n",
    "merged_postings = merged_postings.merge(skill_grouped, on=\"job_id\", how=\"left\")"
   ]
  },
  {
   "cell_type": "code",
   "execution_count": 12,
   "metadata": {},
   "outputs": [
    {
     "name": "stdout",
     "output_type": "stream",
     "text": [
      "     job_id            company_name  \\\n",
      "0    921716   Corcoran Sawyer Smith   \n",
      "1   1829192                     NaN   \n",
      "2  10998357  The National Exemplar    \n",
      "3  23221523  Abrams Fensterman, LLP   \n",
      "4  35982263                     NaN   \n",
      "\n",
      "                                               title  \\\n",
      "0                              Marketing Coordinator   \n",
      "1                  Mental Health Therapist/Counselor   \n",
      "2                        Assitant Restaurant Manager   \n",
      "3  Senior Elder Law / Trusts and Estates Associat...   \n",
      "4                                 Service Technician   \n",
      "\n",
      "                                         description  max_salary pay_period  \\\n",
      "0  Job descriptionA leading real estate firm in N...        20.0     HOURLY   \n",
      "1  At Aspen Therapy and Wellness , we are committ...        50.0     HOURLY   \n",
      "2  The National Exemplar is accepting application...     65000.0     YEARLY   \n",
      "3  Senior Associate Attorney - Elder Law / Trusts...    175000.0     YEARLY   \n",
      "4  Looking for HVAC service tech with experience ...     80000.0     YEARLY   \n",
      "\n",
      "            location  company_id  views  med_salary  ...  posting_domain  \\\n",
      "0      Princeton, NJ   2774458.0   20.0         NaN  ...             NaN   \n",
      "1   Fort Collins, CO         NaN    1.0         NaN  ...             NaN   \n",
      "2     Cincinnati, OH  64896719.0    8.0         NaN  ...             NaN   \n",
      "3  New Hyde Park, NY    766262.0   16.0         NaN  ...             NaN   \n",
      "4     Burlington, IA         NaN    3.0         NaN  ...             NaN   \n",
      "\n",
      "  sponsored  work_type  currency  compensation_type normalized_salary  \\\n",
      "0         0  FULL_TIME       USD        BASE_SALARY           38480.0   \n",
      "1         0  FULL_TIME       USD        BASE_SALARY           83200.0   \n",
      "2         0  FULL_TIME       USD        BASE_SALARY           55000.0   \n",
      "3         0  FULL_TIME       USD        BASE_SALARY          157500.0   \n",
      "4         0  FULL_TIME       USD        BASE_SALARY           70000.0   \n",
      "\n",
      "  zip_code     fips        industry_name                    skill_name  \n",
      "0   8540.0  34021.0          Real_Estate           Marketing and Sales  \n",
      "1  80521.0   8069.0                  NaN          Health_Care_Provider  \n",
      "2  45202.0  39061.0          Restaurants  Management and Manufacturing  \n",
      "3  11040.0  36059.0         Law_Practice                         Other  \n",
      "4  52601.0  19057.0  Facilities_Services        Information_Technology  \n",
      "\n",
      "[5 rows x 33 columns]\n"
     ]
    }
   ],
   "source": [
    "print(merged_postings.head())"
   ]
  },
  {
   "cell_type": "markdown",
   "metadata": {},
   "source": [
    "Merged Benefits"
   ]
  },
  {
   "cell_type": "code",
   "execution_count": 13,
   "metadata": {},
   "outputs": [],
   "source": [
    "benefits[\"type\"] = benefits[\"type\"].str.replace(\" \", \"_\", regex=False)\n",
    "\n",
    "# Merge salaries into postings\n",
    "merged_postings = merged_postings.merge(benefits, on=\"job_id\", how=\"left\")"
   ]
  },
  {
   "cell_type": "code",
   "execution_count": 14,
   "metadata": {},
   "outputs": [
    {
     "name": "stdout",
     "output_type": "stream",
     "text": [
      "     job_id            company_name  \\\n",
      "0    921716   Corcoran Sawyer Smith   \n",
      "1   1829192                     NaN   \n",
      "2  10998357  The National Exemplar    \n",
      "3  23221523  Abrams Fensterman, LLP   \n",
      "4  35982263                     NaN   \n",
      "\n",
      "                                               title  \\\n",
      "0                              Marketing Coordinator   \n",
      "1                  Mental Health Therapist/Counselor   \n",
      "2                        Assitant Restaurant Manager   \n",
      "3  Senior Elder Law / Trusts and Estates Associat...   \n",
      "4                                 Service Technician   \n",
      "\n",
      "                                         description  max_salary pay_period  \\\n",
      "0  Job descriptionA leading real estate firm in N...        20.0     HOURLY   \n",
      "1  At Aspen Therapy and Wellness , we are committ...        50.0     HOURLY   \n",
      "2  The National Exemplar is accepting application...     65000.0     YEARLY   \n",
      "3  Senior Associate Attorney - Elder Law / Trusts...    175000.0     YEARLY   \n",
      "4  Looking for HVAC service tech with experience ...     80000.0     YEARLY   \n",
      "\n",
      "            location  company_id  views  med_salary  ...  work_type currency  \\\n",
      "0      Princeton, NJ   2774458.0   20.0         NaN  ...  FULL_TIME      USD   \n",
      "1   Fort Collins, CO         NaN    1.0         NaN  ...  FULL_TIME      USD   \n",
      "2     Cincinnati, OH  64896719.0    8.0         NaN  ...  FULL_TIME      USD   \n",
      "3  New Hyde Park, NY    766262.0   16.0         NaN  ...  FULL_TIME      USD   \n",
      "4     Burlington, IA         NaN    3.0         NaN  ...  FULL_TIME      USD   \n",
      "\n",
      "   compensation_type  normalized_salary  zip_code     fips  \\\n",
      "0        BASE_SALARY            38480.0    8540.0  34021.0   \n",
      "1        BASE_SALARY            83200.0   80521.0   8069.0   \n",
      "2        BASE_SALARY            55000.0   45202.0  39061.0   \n",
      "3        BASE_SALARY           157500.0   11040.0  36059.0   \n",
      "4        BASE_SALARY            70000.0   52601.0  19057.0   \n",
      "\n",
      "         industry_name                    skill_name  inferred    type  \n",
      "0          Real_Estate           Marketing and Sales       NaN     NaN  \n",
      "1                  NaN          Health_Care_Provider       NaN     NaN  \n",
      "2          Restaurants  Management and Manufacturing       NaN     NaN  \n",
      "3         Law_Practice                         Other       1.0  401(k)  \n",
      "4  Facilities_Services        Information_Technology       NaN     NaN  \n",
      "\n",
      "[5 rows x 35 columns]\n"
     ]
    }
   ],
   "source": [
    "print(merged_postings.head())"
   ]
  },
  {
   "cell_type": "markdown",
   "metadata": {},
   "source": [
    "Merged Company Industries"
   ]
  },
  {
   "cell_type": "code",
   "execution_count": 15,
   "metadata": {},
   "outputs": [],
   "source": [
    "# Replace spaces in skill names with underscores\n",
    "company_industries[\"industry\"] = company_industries[\"industry\"].str.replace(\" \", \"_\", regex=False)\n",
    "\n",
    "# Group skills by job_id, remove NaNs, and join them with \" and \"\n",
    "company_industries_grouped = (\n",
    "    company_industries.groupby(\"company_id\")[\"industry\"]\n",
    "    .apply(lambda x: \" and \".join(x.dropna()))\n",
    "    .reset_index()\n",
    ")\n",
    "\n",
    "# Merge skills into postings\n",
    "merged_postings = merged_postings.merge(company_industries_grouped, on=\"company_id\", how=\"left\")"
   ]
  },
  {
   "cell_type": "code",
   "execution_count": 16,
   "metadata": {},
   "outputs": [
    {
     "name": "stdout",
     "output_type": "stream",
     "text": [
      "     job_id            company_name  \\\n",
      "0    921716   Corcoran Sawyer Smith   \n",
      "1   1829192                     NaN   \n",
      "2  10998357  The National Exemplar    \n",
      "3  23221523  Abrams Fensterman, LLP   \n",
      "4  35982263                     NaN   \n",
      "\n",
      "                                               title  \\\n",
      "0                              Marketing Coordinator   \n",
      "1                  Mental Health Therapist/Counselor   \n",
      "2                        Assitant Restaurant Manager   \n",
      "3  Senior Elder Law / Trusts and Estates Associat...   \n",
      "4                                 Service Technician   \n",
      "\n",
      "                                         description  max_salary pay_period  \\\n",
      "0  Job descriptionA leading real estate firm in N...        20.0     HOURLY   \n",
      "1  At Aspen Therapy and Wellness , we are committ...        50.0     HOURLY   \n",
      "2  The National Exemplar is accepting application...     65000.0     YEARLY   \n",
      "3  Senior Associate Attorney - Elder Law / Trusts...    175000.0     YEARLY   \n",
      "4  Looking for HVAC service tech with experience ...     80000.0     YEARLY   \n",
      "\n",
      "            location  company_id  views  med_salary  ...  currency  \\\n",
      "0      Princeton, NJ   2774458.0   20.0         NaN  ...       USD   \n",
      "1   Fort Collins, CO         NaN    1.0         NaN  ...       USD   \n",
      "2     Cincinnati, OH  64896719.0    8.0         NaN  ...       USD   \n",
      "3  New Hyde Park, NY    766262.0   16.0         NaN  ...       USD   \n",
      "4     Burlington, IA         NaN    3.0         NaN  ...       USD   \n",
      "\n",
      "  compensation_type  normalized_salary  zip_code     fips  \\\n",
      "0       BASE_SALARY            38480.0    8540.0  34021.0   \n",
      "1       BASE_SALARY            83200.0   80521.0   8069.0   \n",
      "2       BASE_SALARY            55000.0   45202.0  39061.0   \n",
      "3       BASE_SALARY           157500.0   11040.0  36059.0   \n",
      "4       BASE_SALARY            70000.0   52601.0  19057.0   \n",
      "\n",
      "         industry_name                    skill_name inferred    type  \\\n",
      "0          Real_Estate           Marketing and Sales      NaN     NaN   \n",
      "1                  NaN          Health_Care_Provider      NaN     NaN   \n",
      "2          Restaurants  Management and Manufacturing      NaN     NaN   \n",
      "3         Law_Practice                         Other      1.0  401(k)   \n",
      "4  Facilities_Services        Information_Technology      NaN     NaN   \n",
      "\n",
      "       industry  \n",
      "0   Real_Estate  \n",
      "1           NaN  \n",
      "2   Restaurants  \n",
      "3  Law_Practice  \n",
      "4           NaN  \n",
      "\n",
      "[5 rows x 36 columns]\n"
     ]
    }
   ],
   "source": [
    "print(merged_postings.head())"
   ]
  },
  {
   "cell_type": "markdown",
   "metadata": {},
   "source": [
    "Merged Company Specialties"
   ]
  },
  {
   "cell_type": "code",
   "execution_count": 17,
   "metadata": {},
   "outputs": [],
   "source": [
    "# Replace spaces in skill names with underscores\n",
    "company_specialities[\"speciality\"] = company_specialities[\"speciality\"].str.replace(\" \", \"_\", regex=False)\n",
    "\n",
    "# Group skills by job_id, remove NaNs, and join them with \" and \"\n",
    "company_specialities_grouped = (\n",
    "    company_specialities.groupby(\"company_id\")[\"speciality\"]\n",
    "    .apply(lambda x: \" and \".join(x.dropna()))\n",
    "    .reset_index()\n",
    ")\n",
    "    \n",
    "# Merge skills into postings\n",
    "merged_postings = merged_postings.merge(company_specialities_grouped, on=\"company_id\", how=\"left\")"
   ]
  },
  {
   "cell_type": "code",
   "execution_count": 18,
   "metadata": {},
   "outputs": [
    {
     "name": "stdout",
     "output_type": "stream",
     "text": [
      "     job_id            company_name  \\\n",
      "0    921716   Corcoran Sawyer Smith   \n",
      "1   1829192                     NaN   \n",
      "2  10998357  The National Exemplar    \n",
      "3  23221523  Abrams Fensterman, LLP   \n",
      "4  35982263                     NaN   \n",
      "\n",
      "                                               title  \\\n",
      "0                              Marketing Coordinator   \n",
      "1                  Mental Health Therapist/Counselor   \n",
      "2                        Assitant Restaurant Manager   \n",
      "3  Senior Elder Law / Trusts and Estates Associat...   \n",
      "4                                 Service Technician   \n",
      "\n",
      "                                         description  max_salary pay_period  \\\n",
      "0  Job descriptionA leading real estate firm in N...        20.0     HOURLY   \n",
      "1  At Aspen Therapy and Wellness , we are committ...        50.0     HOURLY   \n",
      "2  The National Exemplar is accepting application...     65000.0     YEARLY   \n",
      "3  Senior Associate Attorney - Elder Law / Trusts...    175000.0     YEARLY   \n",
      "4  Looking for HVAC service tech with experience ...     80000.0     YEARLY   \n",
      "\n",
      "            location  company_id  views  med_salary  ...  compensation_type  \\\n",
      "0      Princeton, NJ   2774458.0   20.0         NaN  ...        BASE_SALARY   \n",
      "1   Fort Collins, CO         NaN    1.0         NaN  ...        BASE_SALARY   \n",
      "2     Cincinnati, OH  64896719.0    8.0         NaN  ...        BASE_SALARY   \n",
      "3  New Hyde Park, NY    766262.0   16.0         NaN  ...        BASE_SALARY   \n",
      "4     Burlington, IA         NaN    3.0         NaN  ...        BASE_SALARY   \n",
      "\n",
      "  normalized_salary  zip_code     fips        industry_name  \\\n",
      "0           38480.0    8540.0  34021.0          Real_Estate   \n",
      "1           83200.0   80521.0   8069.0                  NaN   \n",
      "2           55000.0   45202.0  39061.0          Restaurants   \n",
      "3          157500.0   11040.0  36059.0         Law_Practice   \n",
      "4           70000.0   52601.0  19057.0  Facilities_Services   \n",
      "\n",
      "                     skill_name inferred    type      industry  \\\n",
      "0           Marketing and Sales      NaN     NaN   Real_Estate   \n",
      "1          Health_Care_Provider      NaN     NaN           NaN   \n",
      "2  Management and Manufacturing      NaN     NaN   Restaurants   \n",
      "3                         Other      1.0  401(k)  Law_Practice   \n",
      "4        Information_Technology      NaN     NaN           NaN   \n",
      "\n",
      "                                          speciality  \n",
      "0                    real_estate and new_development  \n",
      "1                                                NaN  \n",
      "2                                                NaN  \n",
      "3  Civil_Litigation and Corporate_&_Securities_La...  \n",
      "4                                                NaN  \n",
      "\n",
      "[5 rows x 37 columns]\n"
     ]
    }
   ],
   "source": [
    "print(merged_postings.head())"
   ]
  },
  {
   "cell_type": "code",
   "execution_count": 19,
   "metadata": {},
   "outputs": [
    {
     "name": "stdout",
     "output_type": "stream",
     "text": [
      "Merged CSV file has been saved as src/merged_postings.csv\n"
     ]
    }
   ],
   "source": [
    "# Save the new CSV file\n",
    "merged_postings.to_csv(\"merged_postings.csv\", index=False)\n",
    "print(\"Merged CSV file has been saved as src/merged_postings.csv\")"
   ]
  },
  {
   "cell_type": "code",
   "execution_count": 23,
   "metadata": {},
   "outputs": [
    {
     "data": {
      "text/plain": [
       "'Health_Care_Provider'"
      ]
     },
     "execution_count": 23,
     "metadata": {},
     "output_type": "execute_result"
    }
   ],
   "source": [
    "merged_postings['skill_name'][1]"
   ]
  },
  {
   "cell_type": "markdown",
   "metadata": {},
   "source": [
    "Tech Only"
   ]
  },
  {
   "cell_type": "code",
   "execution_count": 26,
   "metadata": {},
   "outputs": [],
   "source": [
    "# List of words to consider\n",
    "to_consider = [\"Design\", \"Project Management\", \"Analyst\", \"Engineering\", \"Information Technology\", \"Production\", \"Management\"]\n",
    "\n",
    "# Normalize the to_consider list by replacing spaces with underscores and converting to lowercase\n",
    "normalized_to_consider = [phrase.replace(' ', '_').lower() for phrase in to_consider]\n",
    "\n",
    "# Function to check if any word from to_consider is in the skill_name\n",
    "def contains_to_consider(skill):\n",
    "    if isinstance(skill, str):\n",
    "        # Split the skill by ' and ' and convert each part to lowercase\n",
    "        skills = [s.lower() for s in skill.split(' and ')]\n",
    "        # Check if any normalized skill is in the normalized_to_consider list\n",
    "        return any(s in normalized_to_consider for s in skills)\n",
    "    else:\n",
    "        # Return False if skill is not a string (e.g., NaN)\n",
    "        return False\n",
    "\n",
    "# Apply the function to filter rows\n",
    "tech_only_postings = merged_postings[merged_postings['skill_name'].apply(contains_to_consider)]"
   ]
  },
  {
   "cell_type": "code",
   "execution_count": 27,
   "metadata": {},
   "outputs": [
    {
     "name": "stdout",
     "output_type": "stream",
     "text": [
      "Merged CSV file has been saved as src/merged_postings_tech.csv\n"
     ]
    }
   ],
   "source": [
    "# Save the new CSV file\n",
    "tech_only_postings.to_csv(\"merged_postings_tech.csv\", index=False)\n",
    "print(\"Merged CSV file has been saved as src/merged_postings_tech.csv\")"
   ]
  }
 ],
 "metadata": {
  "kernelspec": {
   "display_name": "Python 3",
   "language": "python",
   "name": "python3"
  },
  "language_info": {
   "codemirror_mode": {
    "name": "ipython",
    "version": 3
   },
   "file_extension": ".py",
   "mimetype": "text/x-python",
   "name": "python",
   "nbconvert_exporter": "python",
   "pygments_lexer": "ipython3",
   "version": "3.12.9"
  }
 },
 "nbformat": 4,
 "nbformat_minor": 2
}
