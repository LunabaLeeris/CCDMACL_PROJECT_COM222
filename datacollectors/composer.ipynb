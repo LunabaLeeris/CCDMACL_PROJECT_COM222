{
 "cells": [
  {
   "cell_type": "code",
   "execution_count": 9,
   "metadata": {},
   "outputs": [],
   "source": [
    "import pandas as pd\n",
    "\n",
    "# Load the CSV file\n",
    "df = pd.read_csv(\"merged_postings.csv\")\n",
    "\n",
    "# Define columns to keep\n",
    "columns_to_keep = [\n",
    "    \"company_name\", \"title\", \"description\", \"max_salary\", \"pay_period\", \"location\", \n",
    "    \"med_salary\", \"min_salary\", \"formatted_work_type\", \"remote_allowed\", \"application_type\",\n",
    "    \"expiry\", \"formatted_experience_level\", \"skills_desc\", \"posting_domain\", \"sponsored\", \n",
    "    \"work_type\", \"currency\", \"compensation_type\", \"normalized_salary\", \"zip_code\", \n",
    "    \"industry_name\", \"skill_name\", \"type\", \"industry\", \"speciality\"\n",
    "]\n",
    "\n",
    "# Keep only required columns\n",
    "df = df[columns_to_keep]"
   ]
  },
  {
   "cell_type": "code",
   "execution_count": 10,
   "metadata": {},
   "outputs": [],
   "source": [
    "# Convert salary fields\n",
    "df[\"min_salary\"] = df[\"min_salary\"].apply(lambda x: f\"min_{int(x)}\" if not pd.isna(x) else \"\")\n",
    "df[\"max_salary\"] = df[\"max_salary\"].apply(lambda x: f\"max_{int(x)}\" if not pd.isna(x) else \"\")\n",
    "df[\"med_salary\"] = df[\"med_salary\"].apply(lambda x: f\"med_{int(x)}\" if not pd.isna(x) else \"\")\n",
    "\n",
    "# Convert boolean fields\n",
    "df[\"remote_allowed\"] = df[\"remote_allowed\"].apply(lambda x: \"remote_yes\" if x else \"remote_no\")\n",
    "df[\"sponsored\"] = df[\"sponsored\"].apply(lambda x: \"sponsored_yes\" if x else \"\")"
   ]
  },
  {
   "cell_type": "code",
   "execution_count": 11,
   "metadata": {},
   "outputs": [],
   "source": [
    "import re\n",
    "\n",
    "def format_row(row):\n",
    "    formatted_text = \"\\n\".join([f\"{col}: {row[col]}\" for col in columns_to_keep if pd.notna(row[col]) and row[col] != \"\"])\n",
    "    # Remove special characters except letters, numbers, _, and -\n",
    "    formatted_text = re.sub(r\"[^a-zA-Z0-9_\\- \\n]\", \"\", formatted_text.lower())  \n",
    "    return formatted_text\n",
    "\n",
    "# Apply formatting and cleaning\n",
    "df[\"formatted_text\"] = df.apply(format_row, axis=1)\n",
    "\n",
    "# Create new DataFrame with cleaned job postings\n",
    "formatted_df = pd.DataFrame({\"job_posting\": df[\"formatted_text\"]})"
   ]
  },
  {
   "cell_type": "code",
   "execution_count": null,
   "metadata": {},
   "outputs": [],
   "source": [
    "# Save the new DataFrame to CSV\n",
    "formatted_df.to_csv(\"formatted_postings.csv\", index=False)\n",
    "\n",
    "# Print first 5 formatted job postings\n",
    "print(\"\\n\\n\".join(formatted_df[\"job_posting\"].head().tolist()))"
   ]
  },
  {
   "cell_type": "markdown",
   "metadata": {},
   "source": [
    "Make data tech specific"
   ]
  }
 ],
 "metadata": {
  "kernelspec": {
   "display_name": "Python 3",
   "language": "python",
   "name": "python3"
  },
  "language_info": {
   "codemirror_mode": {
    "name": "ipython",
    "version": 3
   },
   "file_extension": ".py",
   "mimetype": "text/x-python",
   "name": "python",
   "nbconvert_exporter": "python",
   "pygments_lexer": "ipython3",
   "version": "3.12.9"
  }
 },
 "nbformat": 4,
 "nbformat_minor": 2
}
